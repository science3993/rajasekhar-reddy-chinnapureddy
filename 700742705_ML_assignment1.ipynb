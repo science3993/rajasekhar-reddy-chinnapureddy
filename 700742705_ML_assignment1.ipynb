{
  "metadata": {
    "language_info": {
      "codemirror_mode": {
        "name": "python",
        "version": 3
      },
      "file_extension": ".py",
      "mimetype": "text/x-python",
      "name": "python",
      "nbconvert_exporter": "python",
      "pygments_lexer": "ipython3",
      "version": "3.8"
    },
    "kernelspec": {
      "name": "python",
      "display_name": "Python (Pyodide)",
      "language": "python"
    }
  },
  "nbformat_minor": 4,
  "nbformat": 4,
  "cells": [
    {
      "cell_type": "code",
      "source": "#Question_01\n\nimport statistics                                          #importing statistical functions\nages = [19, 22, 19, 24, 20, 25, 26, 24, 25, 24]            #given ages list\nprint (\"ages = \",ages)                                     #printing the given list\nages.sort()\nprint (\"sorted list of ages = \",ages)                      #printing the sorted list\nminimum = min(ages)\nprint (\"The minimum age is \",minimum)                      #minimum age\nmaximum = max(ages)\nprint (\"The maximum age is \",maximum)                      #maximum age\nmedian_age = statistics.median(ages)\nprint (\"The median age in the list is \",median_age)        #median age\naverage_age = statistics.mean(ages)\nprint (\"The average age of the list is \",average_age)     # average of ages\nprint (\"The range of the ages is \", (maximum - minimum))  #range of ages",
      "metadata": {
        "trusted": true
      },
      "execution_count": 22,
      "outputs": [
        {
          "name": "stdout",
          "text": "ages =  [19, 22, 19, 24, 20, 25, 26, 24, 25, 24]\nsorted list of ages =  [19, 19, 20, 22, 24, 24, 24, 25, 25, 26]\nThe minimum age is  19\nThe maximum age is  26\nThe median age in the list is  24.0\nThe average age of the list is  22.8\nThe range of the ages is  7\n",
          "output_type": "stream"
        }
      ]
    },
    {
      "cell_type": "code",
      "source": "#Question_02\n\ndog = {}                                                                          #empty file with name dog\ndog[\"name\"] = \"shiba\"                                                             #added name\ndog[\"color\"] = \"golden\"                                                           #added color\ndog[\"breed\"] = \"german shiba\"                                                     #added breed\ndog[\"legs\"] = \"four shortv legs\"                                                  #added legs\ndog[\"age\"] = \"2 years\"                                                            #added age\nprint(dog)\n\nstudent_file = {}                                                                     #empty student dictionary with name student file.\nstudent_file[\"first_name\"] = \"rajasekhar reddy\"                                  #assigned first name\nstudent_file[\"last_name\"] = \"chinnapureddy\"                                      #assigned last name\nstudent_file[\"gender\"] = \"male\"                                                  #assigned gender\nstudent_file[\"age\"] = \"28\"                                                       #assignes age\nstudent_file[\"martial_status\"] = \"single and open\"                               #assigned marital status\nstudent_file[\"skills\"] = [\"design\", \"drawing\", \"coading\", \"fixing\", \"learning\"]  #added skills that i remember\nstudent_file[\"country\"] = \"united states\"                                        #country of living\nstudent_file[\"city\"] = \"kansas city\"                                             #city of my address\nstudent_file[\"address\"] = \"10342 c0nser st\"                                      #my address\n\nskills = student_file.get('skills')                                              #getting skills value\nprint(f'length of student dictonary: {len(student_file)}')                       #printing length\nprint(f'skills in student dictonary: {skills}, type of skills: {type(skills)}')  #skills modification\nstudent_file['skills'] += ['java_script', 'sql']                                 #adding skills\nprint(f\"new skills added: {student_file['skills']}\")                             #skills dictionary after addition\nprint(f\"dictonary keys as list: {list(student_file.keys())}\")                    #keys list\nprint(f\"dictonary values as list: {list(student_file.values())}\")                #values list",
      "metadata": {
        "trusted": true
      },
      "execution_count": 23,
      "outputs": [
        {
          "name": "stdout",
          "text": "{'name': 'shiba', 'color': 'golden', 'breed': 'german shiba', 'legs': 'four shortv legs', 'age': '2 years'}\nlength of student dictonary: 9\nskills in student dictonary: ['design', 'drawing', 'coading', 'fixing', 'learning'], type of skills: <class 'list'>\nnew skills added: ['design', 'drawing', 'coading', 'fixing', 'learning', 'java_script', 'sql']\ndictonary keys as list: ['first_name', 'last_name', 'gender', 'age', 'martial_status', 'skills', 'country', 'city', 'address']\ndictonary values as list: ['rajasekhar reddy', 'chinnapureddy', 'male', '28', 'single and open', ['design', 'drawing', 'coading', 'fixing', 'learning', 'java_script', 'sql'], 'united states', 'kansas city', '10342 c0nser st']\n",
          "output_type": "stream"
        }
      ]
    },
    {
      "cell_type": "code",
      "source": "#Question_03\n\nbrothers = ('mars(imaginary)', 'musk(fictional)')                                #my brothers for tuple\nsisters = ('geetha', 'chaitanya','haritha','bhavani')                            #my sisters\n\nsiblings = brothers + sisters\nprint(f'total siblings: {len(siblings)}')                                       #printing siblings",
      "metadata": {
        "trusted": true
      },
      "execution_count": 24,
      "outputs": [
        {
          "name": "stdout",
          "text": "total siblings: 6\n",
          "output_type": "stream"
        }
      ]
    },
    {
      "cell_type": "code",
      "source": "#Question_04\n\nIT_companies = {'Facebook', 'Google', 'Microsoft', 'Apple', 'IBM', 'Oracle', 'Amazon'}\nA = {19, 22, 24, 20, 25, 26}\nB = {19, 22, 20, 25, 26, 24, 28, 27}\nage = [22, 19, 24, 25, 26, 24, 25, 24]\n\nprint(f'length of IT companies: {len(IT_companies)}')\n\nIT_companies.add('Twitter')\nprint(f'after adding Twitter to IT companies: {IT_companies}')\n\nIT_companies.update(['Zen 3', 'Paypal', 'Red Bus'])\nprint(f'after adding multiple items to IT companies: {IT_companies}')\n\nIT_companies.remove('Paypal')\nprint(f'after removing paypal from IT companies: {IT_companies}')\n\nC = A.union(B)\n\nprint(f'After join of B on A: {C}')\n\nintersection = A.intersection(B)\nprint(f'After Intersection of A and B: {intersection}')\n\nprint(f'is A subset of B?: {A.issubset(B)}')\n\nprint(f'are A and B disjoint?: {A.isdisjoint(B)}')\n\nA_with_B = A.union(B)\nB_with_A = B.union(A)\nprint(f'join A with B: {A_with_B} and B with A: {B_with_A}')\n\nprint(f'symmetric difference between A and B: {A.symmetric_difference(B)}')\n\nA.clear()\nprint(f'A after deleting: {A}')\n\nages_list = list(age)\nprint(f'length of ages set: {len(age)}, length of ages list: {len(ages_list)}')",
      "metadata": {
        "trusted": true
      },
      "execution_count": 25,
      "outputs": [
        {
          "name": "stdout",
          "text": "length of IT companies: 7\nafter adding Twitter to IT companies: {'Google', 'Facebook', 'Amazon', 'Twitter', 'IBM', 'Oracle', 'Microsoft', 'Apple'}\nafter adding multiple items to IT companies: {'Red Bus', 'Twitter', 'Facebook', 'Zen 3', 'Amazon', 'Oracle', 'Microsoft', 'Apple', 'Paypal', 'Google', 'IBM'}\nafter removing paypal from IT companies: {'Red Bus', 'Twitter', 'Facebook', 'Zen 3', 'Amazon', 'Oracle', 'Microsoft', 'Apple', 'Google', 'IBM'}\nAfter join of B on A: {19, 20, 22, 24, 25, 26, 27, 28}\nAfter Intersection of A and B: {19, 20, 22, 24, 25, 26}\nis A subset of B?: True\nare A and B disjoint?: False\njoin A with B: {19, 20, 22, 24, 25, 26, 27, 28} and B with A: {19, 20, 22, 24, 25, 26, 27, 28}\nsymmetric difference between A and B: {27, 28}\nA after deleting: set()\nlength of ages set: 8, length of ages list: 8\n",
          "output_type": "stream"
        }
      ]
    },
    {
      "cell_type": "code",
      "source": "#Question_05\n\ncircle_R = 30                                                        #assigned circle radius of 30\n_area_of_circle_ = 3.14 * circle_R * circle_R                        #area of circle formulated\n_circum_of_circle_ = 2 * 3.14 * circle_R                             #perimeter of circle\nprint(f'area of circle: { _area_of_circle_}')                        #printing area\nprint(f'circumference of circle: {_circum_of_circle_}')              #printing circumference",
      "metadata": {
        "trusted": true
      },
      "execution_count": 26,
      "outputs": [
        {
          "name": "stdout",
          "text": "area of circle: 2826.0\ncircumference of circle: 188.4\n",
          "output_type": "stream"
        }
      ]
    },
    {
      "cell_type": "code",
      "source": "#Question_06\n\nsentence = \"I am a teacher and I love to inspire and teach people\".split(\" \")\nset_sentence = set()\nfor elem in sentence:\n    if elem not in set_sentence:\n        set_sentence.add(elem)\n    elif elem in set_sentence:\n        set_sentence.remove(elem)\n\nprint(f'number of unique words used in the set: {len(set_sentence)}')",
      "metadata": {
        "trusted": true
      },
      "execution_count": 27,
      "outputs": [
        {
          "name": "stdout",
          "text": "number of unique words used in the set: 8\n",
          "output_type": "stream"
        }
      ]
    },
    {
      "cell_type": "code",
      "source": "#Question_07\n\nprint('Name\\t\\tAge\\t\\tCountry\\t\\tCity\\nAsabeneh\\t250\\t\\tFinland\\t\\tHelsinki')",
      "metadata": {
        "trusted": true
      },
      "execution_count": 28,
      "outputs": [
        {
          "name": "stdout",
          "text": "Name\t\tAge\t\tCountry\t\tCity\nAsabeneh\t250\t\tFinland\t\tHelsinki\n",
          "output_type": "stream"
        }
      ]
    },
    {
      "cell_type": "code",
      "source": "#Question_08\n\nradius = 10\ncir_area = 3.14 * radius ** 2\n\narea_result = \"The area of a circle with radius {radius} is {cir_area} meters square.\".format(radius = radius, cir_area = int(cir_area))\n\nprint(area_result)",
      "metadata": {
        "trusted": true
      },
      "execution_count": 29,
      "outputs": [
        {
          "name": "stdout",
          "text": "The area of a circle with radius 10 is 314 meters square.\n",
          "output_type": "stream"
        }
      ]
    },
    {
      "cell_type": "code",
      "source": "#Question_09\n\nlbs = [150, 155, 145, 148]\nkilo_grams = []\nfor element in lbs:\n    kilo_grams.append(element * 0.45359237)\n\nprint(f'Lbs in Kilos: {kilo_grams}')",
      "metadata": {
        "trusted": true
      },
      "execution_count": 30,
      "outputs": [
        {
          "name": "stdout",
          "text": "Lbs in Kilos: [68.0388555, 70.30681735, 65.77089365, 67.13167076]\n",
          "output_type": "stream"
        }
      ]
    },
    {
      "cell_type": "code",
      "source": "",
      "metadata": {},
      "execution_count": null,
      "outputs": []
    }
  ]
}